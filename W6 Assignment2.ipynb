{
  "nbformat": 4,
  "nbformat_minor": 0,
  "metadata": {
    "colab": {
      "provenance": []
    },
    "kernelspec": {
      "name": "python3",
      "display_name": "Python 3"
    },
    "language_info": {
      "name": "python"
    }
  },
  "cells": [
    {
      "cell_type": "code",
      "execution_count": null,
      "metadata": {
        "id": "mqA6g8K3AZUn"
      },
      "outputs": [],
      "source": []
    },
    {
      "cell_type": "markdown",
      "source": [
        "Q1. What is MongoDB? Explain non-relational databases in short. In which scenarios it is preferred to use\n",
        "MongoDB over SQL databases?\n",
        "\n",
        "MongoDB is a non-relational database that offers scalability, high performance, reliability, and flexibility. MongoDB has grown into a wider data platform with MongoDB Atlas, MongoDB’s cloud-based database, which makes data available at all times.\n",
        "A non-relational database, sometimes called NoSQL (Not Only SQL), is any kind of database that doesn’t use the tables, fields, and columns structured data concept from relational databases. Non-relational databases have been designed with the cloud in mind, making them great at horizontal scaling.\n",
        "\n",
        "If the data you are storing needs to be flexible in terms of shape or size, or if it needs to be open to change in future, then a non-relational database is the answer.\n",
        "\n",
        "Modern NoSQL databases have been designed for the cloud, making them naturally good for horizontal scaling where a lot of smaller servers can be spun up to handle increased load."
      ],
      "metadata": {
        "id": "KAXNWgFNAcgV"
      }
    },
    {
      "cell_type": "markdown",
      "source": [
        "Q2. State and Explain the features of MongoDB\n",
        "\n",
        "MongoDB is a document-oriented, non-relational database with several key features, including:\n",
        "Schema-less\n",
        "MongoDB is a schema-less database, meaning that a single collection can hold multiple documents with different numbers of fields, content, and size. This provides flexibility to databases and reduces the time it takes to process information.\n",
        "Sharding\n",
        "MongoDB uses sharding to scale horizontally by dividing a large data set and distributing it across multiple servers. This allows data to be automatically divided and distributed without interrupting data processing.\n",
        "Indexing\n",
        "Every field in a MongoDB document is indexed with primary and secondary indices. This reduces the time it takes to search for data by allowing the database engine to use the index to find information.\n",
        "Projection\n",
        "MongoDB Projection allows you to select only the data you need, rather than selecting the entire set of data.\n",
        "Scalability\n",
        "MongoDB is designed to handle large loads of data and work on multiple servers. It uses a horizontal scaling model to spread the load of the dataset evenly across multiple servers.\n",
        "Replication\n",
        "MongoDB uses replica sets, which are groups of mongod instances that maintain the same data set. One node in the replica set is the primary node, while the other nodes are secondary nodes.\n",
        "Combining sharding and replication\n",
        "You can combine sharding and replication in MongoDB to provide both horizontal scaling and high availability."
      ],
      "metadata": {
        "id": "Z_JMNGl3BXKR"
      }
    },
    {
      "cell_type": "markdown",
      "source": [
        "Q3. Write a code to connect MongoDB to Python. Also, create a database and a collection in MongoDB.\n",
        "\n",
        "# Mongodb document (JSON-style)\n",
        "document_1 = {\n",
        "  \"_id\" : \"BF00001CFOOD\",\n",
        "  \"item_name\" : \"Bread\",\n",
        "  \"quantity\" : 2,\n",
        "  \"ingredients\" : \"all-purpose flour\"\n",
        "}\n",
        "\n",
        "# python dictionary\n",
        "dict_1 = {\n",
        "  \"item_name\" : \"blender\",\n",
        "  \"max_discount\" : \"10%\",\n",
        "  \"batch_number\" : \"RR450020FRG\",\n",
        "  \"price\" : 340\n",
        "}\n",
        "\n",
        "to connect\n",
        "\n",
        "python -m venv env\n",
        "source env/bin/activate\n",
        "\n",
        "python -m pip install \"pymongo[srv]\"\n",
        "\n",
        "# Get the database using the method we defined in pymongo_test_insert file\n",
        "from pymongo_get_database import get_database\n",
        "dbname = get_database()\n",
        "collection_name = dbname[\"user_1_items\"]\n",
        "\n",
        "item_1 = {\n",
        "  \"_id\" : \"U1IT00001\",\n",
        "  \"item_name\" : \"Blender\",\n",
        "  \"max_discount\" : \"10%\",\n",
        "  \"batch_number\" : \"RR450020FRG\",\n",
        "  \"price\" : 340,\n",
        "  \"category\" : \"kitchen appliance\"\n",
        "}\n",
        "\n",
        "item_2 = {\n",
        "  \"_id\" : \"U1IT00002\",\n",
        "  \"item_name\" : \"Egg\",\n",
        "  \"category\" : \"food\",\n",
        "  \"quantity\" : 12,\n",
        "  \"price\" : 36,\n",
        "  \"item_description\" : \"brown country eggs\"\n",
        "}\n",
        "collection_name.insert_many([item_1,item_2])"
      ],
      "metadata": {
        "id": "xr2v4j3tBlmo"
      }
    },
    {
      "cell_type": "markdown",
      "source": [
        "Q4. Using the database and the collection created in question number 3, write a code to insert one record,\n",
        "and insert many records. Use the find() and find_one() methods to print the inserted record\n",
        "\n",
        "# Get the database using the method we defined in pymongo_test_insert file\n",
        "from pymongo_get_database import get_database\n",
        "dbname = get_database()\n",
        "collection_name = dbname[\"user_1_items\"]\n",
        "\n",
        "item_1 = {\n",
        "  \"_id\" : \"U1IT00001\",\n",
        "  \"item_name\" : \"Blender\",\n",
        "  \"max_discount\" : \"10%\",\n",
        "  \"batch_number\" : \"RR450020FRG\",\n",
        "  \"price\" : 340,\n",
        "  \"category\" : \"kitchen appliance\"\n",
        "}\n",
        "\n",
        "item_2 = {\n",
        "  \"_id\" : \"U1IT00002\",\n",
        "  \"item_name\" : \"Egg\",\n",
        "  \"category\" : \"food\",\n",
        "  \"quantity\" : 12,\n",
        "  \"price\" : 36,\n",
        "  \"item_description\" : \"brown country eggs\"\n",
        "}\n",
        "collection_name.insert_many([item_1,item_2])\n",
        "\n",
        "db.user_1_items.findOne({ item_name: \"Blender\" })\n",
        "\n",
        "db.user_1_items.find({ item_name: \"Blender\" })"
      ],
      "metadata": {
        "id": "FFlstAomCd2H"
      }
    },
    {
      "cell_type": "markdown",
      "source": [
        "Q5. Explain how you can use the find() method to query the MongoDB database. Write a simple code to\n",
        "demonstrate this\n",
        "\n",
        "find() method in MongoDB is a tool for retrieving documents from a collection. It supports various query operators and enabling complex queries. It also allows selecting specific fields to optimize data transfer and benefits from automatic indexing for better performance.\n",
        "\n",
        "In this article, We will learn about the Find() Method in MongoDB by understanding various examples of Find with various operators and so on.\n",
        "\n",
        "MongoDB Find()\n",
        "It is a primary method for retrieving documents from a collection in MongoDB.\n",
        "It Supports a wide range of query operators, including comparison, logical and element operators also allowing for complex queries.\n",
        "It allows us to specify which fields to include or exclude in the result set and reduce the amount of data transferred.\n",
        "It automatically uses indexes to optimize query performance also improving speed and efficiency.\n",
        "\n",
        "example\n",
        "\n",
        "Database: gfg\n",
        "Collections: student\n",
        "Document: Three documents contains the details of the students\n",
        "\n",
        "db.student.find()\n",
        "\n"
      ],
      "metadata": {
        "id": "qG6eLPWjGSEA"
      }
    },
    {
      "cell_type": "markdown",
      "source": [
        "Q6. Explain the sort() method. Give an example to demonstrate sorting in MongoDB.\n",
        "\n",
        "In MongoDB, the sort() method is used to specify the order in which the query returns matching documents from a collection. It allows users to arrange documents in either ascending (1) or descending (-1) order based on the values of one or more fields. In this article, We will learn about the MongoDB sort() method in detail by understanding the various examples and so on.\n",
        "\n",
        "MongoDB sort()\n",
        "The sort() method in MongoDB is used to specify the order in which the query returns matching documents from a given collection. It must be applied to the cursor before retrieving any documents from the database.\n",
        "It takes a document as a parameter that contains a field: value pair that defines the sort order of the result set. The value is 1 or -1 specifying an ascending or descending sort respectively.\n",
        "If a sort returns the same result every time we perform on the same data, then such type of sort is known as a stable sort.\n",
        "If a sort returns a different result every time we perform on the same data, then such type of sort is known as unstable sort.\n",
        "MongoDB generally performs a stable sort unless sorting on a field that holds duplicate values.  \n",
        "We can use the limit() method with the sort() method, it will return the first m documents, where m is the given limit.\n",
        "MongoDB can find the result of the sort operation using indexes.\n",
        "If MongoDB does not find sort order using index scanning, then it uses the top-k sort algorithm.\n",
        "\n",
        "[\n",
        "  {\n",
        "    _id: ObjectId('600f1abb923681e7681ebdce'),\n",
        "    name: 'Akshay',\n",
        "    age: 19\n",
        "  },\n",
        "  { _id: ObjectId('600f1abb923681e7681ebdcf'), name: 'Bablu', age: 18 },\n",
        "  {\n",
        "    _id: ObjectId('600f1abb923681e7681ebdd0'),\n",
        "    name: 'Rakesh',\n",
        "    age: 21\n",
        "  },\n",
        "  {\n",
        "    _id: ObjectId('600f1abb923681e7681ebdd1'),\n",
        "    name: 'Gourav',\n",
        "    age: 20\n",
        "  }\n",
        "]\n",
        "\n",
        "db.student.find().sort({age:1})\n",
        "\n",
        "Output\n",
        "[\n",
        "  { _id: ObjectId('600f1abb923681e7681ebdcf'), name: 'Bablu', age: 18 },\n",
        "  {\n",
        "    _id: ObjectId('600f1abb923681e7681ebdce'),\n",
        "    name: 'Akshay',\n",
        "    age: 19\n",
        "  },\n",
        "  {\n",
        "    _id: ObjectId('600f1abb923681e7681ebdd1'),\n",
        "    name: 'Gourav',\n",
        "    age: 20\n",
        "  },\n",
        "  {\n",
        "    _id: ObjectId('600f1abb923681e7681ebdd0'),\n",
        "    name: 'Rakesh',\n",
        "    age: 21\n",
        "  }\n",
        "]"
      ],
      "metadata": {
        "id": "Y4l-s1K0HvSo"
      }
    },
    {
      "cell_type": "markdown",
      "source": [
        "Q7. Explain why delete_one(), delete_many(), and drop() is used.\n",
        "\n",
        "Delete_many() is used when one needs to delete more than one document. A query object containing which document to be deleted is created and is passed as the first parameter to the delete_many().\n",
        "\n",
        "n MongoDB, a single document can be deleted by the method delete_one(). The first parameter of the method would be a query object which defines the document to be deleted. If there are multiple documents matching the filter query, only the first appeared document would be deleted.\n",
        "\n",
        "In MongoDB, the drop method is used to remove a collection from a database. When we drop a collection, it deletes the entire collection along with all the documents it contains.\n",
        "This operation is irreversible, so it’s important to be cautious when using it. The drop command is used to permanently delete a collection from a MongoDB database."
      ],
      "metadata": {
        "id": "vWKEdCXCIKWK"
      }
    }
  ]
}